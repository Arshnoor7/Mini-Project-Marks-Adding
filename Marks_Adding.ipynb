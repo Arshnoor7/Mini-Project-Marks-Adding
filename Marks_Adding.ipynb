{
  "nbformat": 4,
  "nbformat_minor": 0,
  "metadata": {
    "colab": {
      "provenance": [],
      "authorship_tag": "ABX9TyMUW0EFiOBTDKYX3Jc8/oS5",
      "include_colab_link": true
    },
    "kernelspec": {
      "name": "python3",
      "display_name": "Python 3"
    },
    "language_info": {
      "name": "python"
    }
  },
  "cells": [
    {
      "cell_type": "markdown",
      "metadata": {
        "id": "view-in-github",
        "colab_type": "text"
      },
      "source": [
        "<a href=\"https://colab.research.google.com/github/Arshnoor7/Mini-Project-Marks-Adding/blob/main/Marks_Adding.ipynb\" target=\"_parent\"><img src=\"https://colab.research.google.com/assets/colab-badge.svg\" alt=\"Open In Colab\"/></a>"
      ]
    },
    {
      "cell_type": "markdown",
      "source": [
        "# **Mini-Project - Marks Adding**"
      ],
      "metadata": {
        "id": "DjGttv4zCVZP"
      }
    },
    {
      "cell_type": "code",
      "source": [
        "import csv\n",
        "\n",
        "data = {}\n",
        "with open('/content/Mini Project - Marks Adding.csv', 'r') as file:\n",
        "    reader = csv.reader(file)\n",
        "    next(reader)  \n",
        "    for row in reader:\n",
        "        roll_number = row[0]\n",
        "        mark = int(row[1])\n",
        "        if roll_number in data:\n",
        "            data[roll_number] += mark\n",
        "        else:\n",
        "            data[roll_number] = mark\n",
        "\n",
        "with open('output.csv', 'w', newline='') as file:\n",
        "    writer = csv.writer(file)\n",
        "    writer.writerow(['Roll Number', 'Total Mark'])\n",
        "    for roll_number, total_mark in data.items():\n",
        "        writer.writerow([roll_number, total_mark])\n"
      ],
      "metadata": {
        "id": "9E9fnPaQ3ipV"
      },
      "execution_count": 10,
      "outputs": []
    }
  ]
}